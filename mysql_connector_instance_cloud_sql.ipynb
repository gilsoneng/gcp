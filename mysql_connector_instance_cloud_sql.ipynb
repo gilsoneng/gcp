{
  "nbformat": 4,
  "nbformat_minor": 0,
  "metadata": {
    "colab": {
      "provenance": [],
      "authorship_tag": "ABX9TyMxc760xONb1hgk44mvb0uv",
      "include_colab_link": true
    },
    "kernelspec": {
      "name": "python3",
      "display_name": "Python 3"
    },
    "language_info": {
      "name": "python"
    }
  },
  "cells": [
    {
      "cell_type": "markdown",
      "metadata": {
        "id": "view-in-github",
        "colab_type": "text"
      },
      "source": [
        "<a href=\"https://colab.research.google.com/github/gilsoneng/gcp/blob/main/mysql_connector_instance_cloud_sql.ipynb\" target=\"_parent\"><img src=\"https://colab.research.google.com/assets/colab-badge.svg\" alt=\"Open In Colab\"/></a>"
      ]
    },
    {
      "cell_type": "code",
      "source": [
        "!pip install cloud-sql-python-connector\n",
        "!pip install mysql-connector-python\n",
        "!pip install pymysql"
      ],
      "metadata": {
        "id": "uf_wvBF0ibSG"
      },
      "execution_count": null,
      "outputs": []
    },
    {
      "cell_type": "code",
      "source": [
        "import os\n",
        "from google.colab import auth\n",
        "auth.authenticate_user()"
      ],
      "metadata": {
        "id": "Ud5Ba9Hbi7H8"
      },
      "execution_count": 2,
      "outputs": []
    },
    {
      "cell_type": "code",
      "execution_count": 3,
      "metadata": {
        "id": "BQooxpoxh-L-"
      },
      "outputs": [],
      "source": [
        "from google.cloud.sql.connector import Connector\n",
        "import sqlalchemy\n",
        "import pymysql\n",
        "import pandas as pd\n",
        "\n",
        "# initialize Connector object\n",
        "connector = Connector()\n"
      ]
    },
    {
      "cell_type": "code",
      "source": [
        "# function to return the database connection\n",
        "def getconn() -> pymysql.connections.Connection:\n",
        "    conn: pymysql.connections.Connection = connector.connect(\n",
        "        \"computational-intelligence-1:us-central1:mysql-intcomp\",\n",
        "        \"pymysql\",\n",
        "        user=\"teste_acesso\",\n",
        "        password=\"vm>a~|%o1])%T]Xn\",\n",
        "        db=\"teste_connection\",\n",
        "    )\n",
        "    return conn\n",
        "\n",
        "# create connection pool\n",
        "pool = sqlalchemy.create_engine(\n",
        "    \"mysql+pymysql://\",\n",
        "    creator=getconn,\n",
        ")"
      ],
      "metadata": {
        "id": "yNlmn_OZ41WK"
      },
      "execution_count": 4,
      "outputs": []
    },
    {
      "cell_type": "code",
      "source": [
        "# insert statement\n",
        "select_statment = sqlalchemy.text(\n",
        "    \"SELECT VERSION(), CURRENT_DATE(), CURRENT_TIMESTAMP()\",\n",
        ")\n",
        "\n",
        "with pool.connect() as db_conn:\n",
        "    # query database\n",
        "    result = db_conn.execute(select_statment).fetchall()\n",
        "\n",
        "    # commit transaction (SQLAlchemy v2.X.X is commit as you go)\n",
        "    db_conn.commit()\n",
        "\n",
        "    # Do something with the results\n",
        "    for row in result:\n",
        "        print(row)"
      ],
      "metadata": {
        "id": "FL0z5oWMiEmo",
        "colab": {
          "base_uri": "https://localhost:8080/"
        },
        "outputId": "fb4a6eec-5049-4a51-e805-5b85e6f828a6"
      },
      "execution_count": 6,
      "outputs": [
        {
          "output_type": "stream",
          "name": "stdout",
          "text": [
            "('8.0.31-google', datetime.date(2024, 2, 2), datetime.datetime(2024, 2, 2, 15, 20, 10))\n"
          ]
        },
        {
          "output_type": "stream",
          "name": "stderr",
          "text": [
            "/usr/local/lib/python3.10/dist-packages/google/cloud/sql/connector/refresh_utils.py:214: CryptographyDeprecationWarning: Properties that return a naïve datetime object have been deprecated. Please switch to not_valid_after_utc.\n",
            "  expiration = x509.not_valid_after\n"
          ]
        }
      ]
    },
    {
      "cell_type": "code",
      "source": [
        "# insert statement\n",
        "select_statment = sqlalchemy.text(\n",
        "    \"SELECT VERSION(), CURRENT_DATE(), CURRENT_TIMESTAMP()\",\n",
        ")\n",
        "\n",
        "db_conn = pool.connect()\n",
        "\n",
        "df = pd.read_sql(sql=select_statment, con=db_conn)"
      ],
      "metadata": {
        "id": "W0ou68tFaV0x"
      },
      "execution_count": 10,
      "outputs": []
    },
    {
      "cell_type": "code",
      "source": [
        "print(df)"
      ],
      "metadata": {
        "colab": {
          "base_uri": "https://localhost:8080/"
        },
        "id": "soM68mqRbHAE",
        "outputId": "74bcc3bf-4c67-4347-c4c4-53cd5565e908"
      },
      "execution_count": 12,
      "outputs": [
        {
          "output_type": "stream",
          "name": "stdout",
          "text": [
            "       VERSION() CURRENT_DATE() CURRENT_TIMESTAMP()\n",
            "0  8.0.31-google     2024-02-02 2024-02-02 15:25:03\n"
          ]
        }
      ]
    }
  ]
}